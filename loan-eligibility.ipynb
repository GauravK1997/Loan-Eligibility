{
 "cells": [
  {
   "cell_type": "markdown",
   "id": "30361d47",
   "metadata": {},
   "source": [
    "## Problem Statement\n",
    "\n",
    "The following data contains information about customers of a bank. Build a Machine Learning model to predict whether a customer is eligibile to apply for a loan or not"
   ]
  },
  {
   "cell_type": "code",
   "execution_count": 1,
   "id": "9e837b1d",
   "metadata": {},
   "outputs": [],
   "source": [
    "# Important Libraries\n",
    "import numpy as np\n",
    "import pandas as pd\n",
    "import matplotlib.pyplot as plt\n",
    "%matplotlib inline\n",
    "import seaborn as sns\n",
    "\n",
    "# Preprocessing modules\n",
    "from sklearn.pipeline import Pipeline\n",
    "from sklearn.compose import ColumnTransformer\n",
    "from sklearn.impute import SimpleImputer\n",
    "from sklearn.model_selection import train_test_split, RandomizedSearchCV\n",
    "\n",
    "# Model\n",
    "from sklearn.ensemble import RandomForestClassifier\n",
    "from sklearn.ensemble import AdaBoostClassifier\n",
    "\n",
    "# Metrics\n",
    "from sklearn.metrics import plot_confusion_matrix, classification_report, plot_roc_curve\n",
    "\n",
    "# Saving the model\n",
    "import pickle"
   ]
  },
  {
   "cell_type": "code",
   "execution_count": 2,
   "id": "14214b53",
   "metadata": {},
   "outputs": [
    {
     "data": {
      "text/html": [
       "<div>\n",
       "<style scoped>\n",
       "    .dataframe tbody tr th:only-of-type {\n",
       "        vertical-align: middle;\n",
       "    }\n",
       "\n",
       "    .dataframe tbody tr th {\n",
       "        vertical-align: top;\n",
       "    }\n",
       "\n",
       "    .dataframe thead th {\n",
       "        text-align: right;\n",
       "    }\n",
       "</style>\n",
       "<table border=\"1\" class=\"dataframe\">\n",
       "  <thead>\n",
       "    <tr style=\"text-align: right;\">\n",
       "      <th></th>\n",
       "      <th>Loan_ID</th>\n",
       "      <th>Gender</th>\n",
       "      <th>Married</th>\n",
       "      <th>Dependents</th>\n",
       "      <th>Education</th>\n",
       "      <th>Self_Employed</th>\n",
       "      <th>ApplicantIncome</th>\n",
       "      <th>CoapplicantIncome</th>\n",
       "      <th>LoanAmount</th>\n",
       "      <th>Loan_Amount_Term</th>\n",
       "      <th>Credit_History</th>\n",
       "      <th>Property_Area</th>\n",
       "      <th>Loan_Status</th>\n",
       "    </tr>\n",
       "  </thead>\n",
       "  <tbody>\n",
       "    <tr>\n",
       "      <th>0</th>\n",
       "      <td>LP001002</td>\n",
       "      <td>Male</td>\n",
       "      <td>No</td>\n",
       "      <td>0</td>\n",
       "      <td>Graduate</td>\n",
       "      <td>No</td>\n",
       "      <td>5849</td>\n",
       "      <td>0.0</td>\n",
       "      <td>NaN</td>\n",
       "      <td>360.0</td>\n",
       "      <td>1.0</td>\n",
       "      <td>Urban</td>\n",
       "      <td>Y</td>\n",
       "    </tr>\n",
       "    <tr>\n",
       "      <th>1</th>\n",
       "      <td>LP001003</td>\n",
       "      <td>Male</td>\n",
       "      <td>Yes</td>\n",
       "      <td>1</td>\n",
       "      <td>Graduate</td>\n",
       "      <td>No</td>\n",
       "      <td>4583</td>\n",
       "      <td>1508.0</td>\n",
       "      <td>128.0</td>\n",
       "      <td>360.0</td>\n",
       "      <td>1.0</td>\n",
       "      <td>Rural</td>\n",
       "      <td>N</td>\n",
       "    </tr>\n",
       "    <tr>\n",
       "      <th>2</th>\n",
       "      <td>LP001005</td>\n",
       "      <td>Male</td>\n",
       "      <td>Yes</td>\n",
       "      <td>0</td>\n",
       "      <td>Graduate</td>\n",
       "      <td>Yes</td>\n",
       "      <td>3000</td>\n",
       "      <td>0.0</td>\n",
       "      <td>66.0</td>\n",
       "      <td>360.0</td>\n",
       "      <td>1.0</td>\n",
       "      <td>Urban</td>\n",
       "      <td>Y</td>\n",
       "    </tr>\n",
       "    <tr>\n",
       "      <th>3</th>\n",
       "      <td>LP001006</td>\n",
       "      <td>Male</td>\n",
       "      <td>Yes</td>\n",
       "      <td>0</td>\n",
       "      <td>Not Graduate</td>\n",
       "      <td>No</td>\n",
       "      <td>2583</td>\n",
       "      <td>2358.0</td>\n",
       "      <td>120.0</td>\n",
       "      <td>360.0</td>\n",
       "      <td>1.0</td>\n",
       "      <td>Urban</td>\n",
       "      <td>Y</td>\n",
       "    </tr>\n",
       "    <tr>\n",
       "      <th>4</th>\n",
       "      <td>LP001008</td>\n",
       "      <td>Male</td>\n",
       "      <td>No</td>\n",
       "      <td>0</td>\n",
       "      <td>Graduate</td>\n",
       "      <td>No</td>\n",
       "      <td>6000</td>\n",
       "      <td>0.0</td>\n",
       "      <td>141.0</td>\n",
       "      <td>360.0</td>\n",
       "      <td>1.0</td>\n",
       "      <td>Urban</td>\n",
       "      <td>Y</td>\n",
       "    </tr>\n",
       "  </tbody>\n",
       "</table>\n",
       "</div>"
      ],
      "text/plain": [
       "    Loan_ID Gender Married Dependents     Education Self_Employed  \\\n",
       "0  LP001002   Male      No          0      Graduate            No   \n",
       "1  LP001003   Male     Yes          1      Graduate            No   \n",
       "2  LP001005   Male     Yes          0      Graduate           Yes   \n",
       "3  LP001006   Male     Yes          0  Not Graduate            No   \n",
       "4  LP001008   Male      No          0      Graduate            No   \n",
       "\n",
       "   ApplicantIncome  CoapplicantIncome  LoanAmount  Loan_Amount_Term  \\\n",
       "0             5849                0.0         NaN             360.0   \n",
       "1             4583             1508.0       128.0             360.0   \n",
       "2             3000                0.0        66.0             360.0   \n",
       "3             2583             2358.0       120.0             360.0   \n",
       "4             6000                0.0       141.0             360.0   \n",
       "\n",
       "   Credit_History Property_Area Loan_Status  \n",
       "0             1.0         Urban           Y  \n",
       "1             1.0         Rural           N  \n",
       "2             1.0         Urban           Y  \n",
       "3             1.0         Urban           Y  \n",
       "4             1.0         Urban           Y  "
      ]
     },
     "execution_count": 2,
     "metadata": {},
     "output_type": "execute_result"
    }
   ],
   "source": [
    "data = pd.read_csv('loan.csv')\n",
    "data.head()"
   ]
  },
  {
   "cell_type": "code",
   "execution_count": 3,
   "id": "0a1a3536",
   "metadata": {},
   "outputs": [
    {
     "data": {
      "text/plain": [
       "(614, 13)"
      ]
     },
     "execution_count": 3,
     "metadata": {},
     "output_type": "execute_result"
    }
   ],
   "source": [
    "df = data.copy()\n",
    "df.shape"
   ]
  },
  {
   "cell_type": "code",
   "execution_count": 4,
   "id": "37a794b7",
   "metadata": {},
   "outputs": [
    {
     "name": "stdout",
     "output_type": "stream",
     "text": [
      "<class 'pandas.core.frame.DataFrame'>\n",
      "RangeIndex: 614 entries, 0 to 613\n",
      "Data columns (total 13 columns):\n",
      " #   Column             Non-Null Count  Dtype  \n",
      "---  ------             --------------  -----  \n",
      " 0   Loan_ID            614 non-null    object \n",
      " 1   Gender             601 non-null    object \n",
      " 2   Married            611 non-null    object \n",
      " 3   Dependents         599 non-null    object \n",
      " 4   Education          614 non-null    object \n",
      " 5   Self_Employed      582 non-null    object \n",
      " 6   ApplicantIncome    614 non-null    int64  \n",
      " 7   CoapplicantIncome  614 non-null    float64\n",
      " 8   LoanAmount         592 non-null    float64\n",
      " 9   Loan_Amount_Term   600 non-null    float64\n",
      " 10  Credit_History     564 non-null    float64\n",
      " 11  Property_Area      614 non-null    object \n",
      " 12  Loan_Status        614 non-null    object \n",
      "dtypes: float64(4), int64(1), object(8)\n",
      "memory usage: 62.5+ KB\n"
     ]
    }
   ],
   "source": [
    "df.info()"
   ]
  },
  {
   "cell_type": "code",
   "execution_count": 5,
   "id": "bb94eb49",
   "metadata": {},
   "outputs": [
    {
     "data": {
      "text/plain": [
       "Y    422\n",
       "N    192\n",
       "Name: Loan_Status, dtype: int64"
      ]
     },
     "execution_count": 5,
     "metadata": {},
     "output_type": "execute_result"
    }
   ],
   "source": [
    "df['Loan_Status'].value_counts()"
   ]
  },
  {
   "cell_type": "markdown",
   "id": "0cb0ab8f",
   "metadata": {},
   "source": [
    "### Dropping the unique identifying feature: Loan_ID"
   ]
  },
  {
   "cell_type": "code",
   "execution_count": 6,
   "id": "f470bb4b",
   "metadata": {},
   "outputs": [],
   "source": [
    "df.drop(['Loan_ID'], axis=1, inplace=True)"
   ]
  },
  {
   "cell_type": "markdown",
   "id": "efedd626",
   "metadata": {},
   "source": [
    "## Exploratory Data Analysis (EDA)"
   ]
  },
  {
   "cell_type": "markdown",
   "id": "d7a60632",
   "metadata": {},
   "source": [
    "### 1. Checking for Multi-collinearity"
   ]
  },
  {
   "cell_type": "code",
   "execution_count": 7,
   "id": "93e1db6d",
   "metadata": {},
   "outputs": [
    {
     "data": {
      "image/png": "[encoded data removed]",
      "text/plain": [
       "<Figure size 720x576 with 2 Axes>"
      ]
     },
     "metadata": {
      "needs_background": "light"
     },
     "output_type": "display_data"
    }
   ],
   "source": [
    "corr = df.corr()\n",
    "\n",
    "plt.figure(figsize=(10, 8))\n",
    "sns.heatmap(corr, annot=True, cmap='RdYlGn')\n",
    "plt.show()"
   ]
  },
  {
   "cell_type": "markdown",
   "id": "9c376854",
   "metadata": {},
   "source": [
    "### There isn't enough correlation among the input features in order to drop any of them"
   ]
  },
  {
   "cell_type": "markdown",
   "id": "e9ef8d49",
   "metadata": {},
   "source": [
    "### 2. Checking for Missing Values"
   ]
  },
  {
   "cell_type": "code",
   "execution_count": 8,
   "id": "96c742b4",
   "metadata": {},
   "outputs": [
    {
     "data": {
      "text/plain": [
       "Gender               13\n",
       "Married               3\n",
       "Dependents           15\n",
       "Education             0\n",
       "Self_Employed        32\n",
       "ApplicantIncome       0\n",
       "CoapplicantIncome     0\n",
       "LoanAmount           22\n",
       "Loan_Amount_Term     14\n",
       "Credit_History       50\n",
       "Property_Area         0\n",
       "Loan_Status           0\n",
       "dtype: int64"
      ]
     },
     "execution_count": 8,
     "metadata": {},
     "output_type": "execute_result"
    }
   ],
   "source": [
    "df.isnull().sum()"
   ]
  },
  {
   "cell_type": "markdown",
   "id": "863fe855",
   "metadata": {},
   "source": [
    "### There are a lot of missing values present within the dataset"
   ]
  },
  {
   "cell_type": "markdown",
   "id": "a56e3695",
   "metadata": {},
   "source": [
    "### 3. Checking for the presence of Outliers"
   ]
  },
  {
   "cell_type": "code",
   "execution_count": 9,
   "id": "c2c7ab9d",
   "metadata": {},
   "outputs": [
    {
     "data": {
      "image/png": "[encoded data removed]",
      "text/plain": [
       "<Figure size 1080x504 with 1 Axes>"
      ]
     },
     "metadata": {
      "needs_background": "light"
     },
     "output_type": "display_data"
    }
   ],
   "source": [
    "plt.figure(figsize=(15, 7))\n",
    "\n",
    "df.boxplot()\n",
    "plt.show()"
   ]
  },
  {
   "cell_type": "markdown",
   "id": "27a2d4b8",
   "metadata": {},
   "source": [
    "### Features with outliers:\n",
    "\n",
    "1. ApplicantIncome\n",
    "\n",
    "2. CoapplicantIncome"
   ]
  },
  {
   "cell_type": "markdown",
   "id": "1635bab3",
   "metadata": {},
   "source": [
    "### Checking the 'Dependent' feature"
   ]
  },
  {
   "cell_type": "code",
   "execution_count": 10,
   "id": "7ee20b0a",
   "metadata": {},
   "outputs": [
    {
     "data": {
      "text/plain": [
       "array(['0', '1', '2', '3+', nan], dtype=object)"
      ]
     },
     "execution_count": 10,
     "metadata": {},
     "output_type": "execute_result"
    }
   ],
   "source": [
    "# The 'Dependents' feature contains string values with one values: 3+\n",
    "df['Dependents'].unique()"
   ]
  },
  {
   "cell_type": "markdown",
   "id": "9148b4dc",
   "metadata": {},
   "source": [
    "## Plan for Preprocessing the data\n",
    "\n",
    "A] For Outliers ==> Will create a Custom Transformer to handle the outliers\n",
    "\n",
    "B] Handling Missing Values:\n",
    "\n",
    "1. LoanAmount == Mean\n",
    "\n",
    "2. Gender == Mode\n",
    "\n",
    "3. Married == Mode\n",
    "\n",
    "4. Dependents == Mode\n",
    "\n",
    "5. Self_Employed == Mode\n",
    "\n",
    "6. Loan_Amount_Term == Mode\n",
    "\n",
    "7. Credit_History == Mode\n",
    "\n",
    "C] One Hot Encoding Categorical Features: "
   ]
  },
  {
   "cell_type": "markdown",
   "id": "97223789",
   "metadata": {},
   "source": [
    "## X & y Split"
   ]
  },
  {
   "cell_type": "code",
   "execution_count": 11,
   "id": "44319819",
   "metadata": {},
   "outputs": [
    {
     "data": {
      "text/html": [
       "<div>\n",
       "<style scoped>\n",
       "    .dataframe tbody tr th:only-of-type {\n",
       "        vertical-align: middle;\n",
       "    }\n",
       "\n",
       "    .dataframe tbody tr th {\n",
       "        vertical-align: top;\n",
       "    }\n",
       "\n",
       "    .dataframe thead th {\n",
       "        text-align: right;\n",
       "    }\n",
       "</style>\n",
       "<table border=\"1\" class=\"dataframe\">\n",
       "  <thead>\n",
       "    <tr style=\"text-align: right;\">\n",
       "      <th></th>\n",
       "      <th>Gender</th>\n",
       "      <th>Married</th>\n",
       "      <th>Dependents</th>\n",
       "      <th>Education</th>\n",
       "      <th>Self_Employed</th>\n",
       "      <th>ApplicantIncome</th>\n",
       "      <th>CoapplicantIncome</th>\n",
       "      <th>LoanAmount</th>\n",
       "      <th>Loan_Amount_Term</th>\n",
       "      <th>Credit_History</th>\n",
       "      <th>Property_Area</th>\n",
       "    </tr>\n",
       "  </thead>\n",
       "  <tbody>\n",
       "    <tr>\n",
       "      <th>0</th>\n",
       "      <td>Male</td>\n",
       "      <td>No</td>\n",
       "      <td>0</td>\n",
       "      <td>Graduate</td>\n",
       "      <td>No</td>\n",
       "      <td>5849</td>\n",
       "      <td>0.0</td>\n",
       "      <td>NaN</td>\n",
       "      <td>360.0</td>\n",
       "      <td>1.0</td>\n",
       "      <td>Urban</td>\n",
       "    </tr>\n",
       "    <tr>\n",
       "      <th>1</th>\n",
       "      <td>Male</td>\n",
       "      <td>Yes</td>\n",
       "      <td>1</td>\n",
       "      <td>Graduate</td>\n",
       "      <td>No</td>\n",
       "      <td>4583</td>\n",
       "      <td>1508.0</td>\n",
       "      <td>128.0</td>\n",
       "      <td>360.0</td>\n",
       "      <td>1.0</td>\n",
       "      <td>Rural</td>\n",
       "    </tr>\n",
       "    <tr>\n",
       "      <th>2</th>\n",
       "      <td>Male</td>\n",
       "      <td>Yes</td>\n",
       "      <td>0</td>\n",
       "      <td>Graduate</td>\n",
       "      <td>Yes</td>\n",
       "      <td>3000</td>\n",
       "      <td>0.0</td>\n",
       "      <td>66.0</td>\n",
       "      <td>360.0</td>\n",
       "      <td>1.0</td>\n",
       "      <td>Urban</td>\n",
       "    </tr>\n",
       "    <tr>\n",
       "      <th>3</th>\n",
       "      <td>Male</td>\n",
       "      <td>Yes</td>\n",
       "      <td>0</td>\n",
       "      <td>Not Graduate</td>\n",
       "      <td>No</td>\n",
       "      <td>2583</td>\n",
       "      <td>2358.0</td>\n",
       "      <td>120.0</td>\n",
       "      <td>360.0</td>\n",
       "      <td>1.0</td>\n",
       "      <td>Urban</td>\n",
       "    </tr>\n",
       "    <tr>\n",
       "      <th>4</th>\n",
       "      <td>Male</td>\n",
       "      <td>No</td>\n",
       "      <td>0</td>\n",
       "      <td>Graduate</td>\n",
       "      <td>No</td>\n",
       "      <td>6000</td>\n",
       "      <td>0.0</td>\n",
       "      <td>141.0</td>\n",
       "      <td>360.0</td>\n",
       "      <td>1.0</td>\n",
       "      <td>Urban</td>\n",
       "    </tr>\n",
       "  </tbody>\n",
       "</table>\n",
       "</div>"
      ],
      "text/plain": [
       "  Gender Married Dependents     Education Self_Employed  ApplicantIncome  \\\n",
       "0   Male      No          0      Graduate            No             5849   \n",
       "1   Male     Yes          1      Graduate            No             4583   \n",
       "2   Male     Yes          0      Graduate           Yes             3000   \n",
       "3   Male     Yes          0  Not Graduate            No             2583   \n",
       "4   Male      No          0      Graduate            No             6000   \n",
       "\n",
       "   CoapplicantIncome  LoanAmount  Loan_Amount_Term  Credit_History  \\\n",
       "0                0.0         NaN             360.0             1.0   \n",
       "1             1508.0       128.0             360.0             1.0   \n",
       "2                0.0        66.0             360.0             1.0   \n",
       "3             2358.0       120.0             360.0             1.0   \n",
       "4                0.0       141.0             360.0             1.0   \n",
       "\n",
       "  Property_Area  \n",
       "0         Urban  \n",
       "1         Rural  \n",
       "2         Urban  \n",
       "3         Urban  \n",
       "4         Urban  "
      ]
     },
     "execution_count": 11,
     "metadata": {},
     "output_type": "execute_result"
    }
   ],
   "source": [
    "X = df.drop(['Loan_Status'], axis=1)\n",
    "X.head()"
   ]
  },
  {
   "cell_type": "code",
   "execution_count": 12,
   "id": "b99c4c0a",
   "metadata": {},
   "outputs": [
    {
     "data": {
      "text/plain": [
       "0    Y\n",
       "1    N\n",
       "2    Y\n",
       "3    Y\n",
       "4    Y\n",
       "Name: Loan_Status, dtype: object"
      ]
     },
     "execution_count": 12,
     "metadata": {},
     "output_type": "execute_result"
    }
   ],
   "source": [
    "y = df['Loan_Status']\n",
    "y.head()"
   ]
  },
  {
   "cell_type": "code",
   "execution_count": 13,
   "id": "9637d0df",
   "metadata": {},
   "outputs": [],
   "source": [
    "X_train, X_test, y_train, y_test = train_test_split(X, y, test_size=0.33, random_state=42)"
   ]
  },
  {
   "cell_type": "code",
   "execution_count": 14,
   "id": "39f3d7f0",
   "metadata": {},
   "outputs": [
    {
     "data": {
      "text/plain": [
       "((411, 11), (203, 11))"
      ]
     },
     "execution_count": 14,
     "metadata": {},
     "output_type": "execute_result"
    }
   ],
   "source": [
    "X_train.shape, X_test.shape"
   ]
  },
  {
   "cell_type": "markdown",
   "id": "bc9eb34b",
   "metadata": {},
   "source": [
    "### Dealing with the 'Dependents' feature"
   ]
  },
  {
   "cell_type": "code",
   "execution_count": 15,
   "id": "fbf82b79",
   "metadata": {},
   "outputs": [
    {
     "data": {
      "text/plain": [
       "244    0\n",
       "393    2\n",
       "310    0\n",
       "408    1\n",
       "572    2\n",
       "Name: Dependents, dtype: object"
      ]
     },
     "execution_count": 15,
     "metadata": {},
     "output_type": "execute_result"
    }
   ],
   "source": [
    "X_train['Dependents'].head()"
   ]
  },
  {
   "cell_type": "code",
   "execution_count": 16,
   "id": "70e08329",
   "metadata": {},
   "outputs": [],
   "source": [
    "dep_map = {\n",
    "    '0':0,\n",
    "    '1':1,\n",
    "    '2':2,\n",
    "    '3+':3\n",
    "}"
   ]
  },
  {
   "cell_type": "code",
   "execution_count": 17,
   "id": "95c0223c",
   "metadata": {},
   "outputs": [
    {
     "name": "stderr",
     "output_type": "stream",
     "text": [
      "E:\\My ML Projects\\mlprojects\\lib\\site-packages\\pandas\\core\\frame.py:3607: SettingWithCopyWarning: \n",
      "A value is trying to be set on a copy of a slice from a DataFrame.\n",
      "Try using .loc[row_indexer,col_indexer] = value instead\n",
      "\n",
      "See the caveats in the documentation: https://pandas.pydata.org/pandas-docs/stable/user_guide/indexing.html#returning-a-view-versus-a-copy\n",
      "  self._set_item(key, value)\n"
     ]
    }
   ],
   "source": [
    "X_train['Dependents'] = X_train['Dependents'].map(dep_map)"
   ]
  },
  {
   "cell_type": "code",
   "execution_count": 18,
   "id": "975e5b6f",
   "metadata": {},
   "outputs": [
    {
     "data": {
      "text/plain": [
       "244    0.0\n",
       "393    2.0\n",
       "310    0.0\n",
       "408    1.0\n",
       "572    2.0\n",
       "Name: Dependents, dtype: float64"
      ]
     },
     "execution_count": 18,
     "metadata": {},
     "output_type": "execute_result"
    }
   ],
   "source": [
    "X_train['Dependents'].head()"
   ]
  },
  {
   "cell_type": "markdown",
   "id": "e6edd662",
   "metadata": {},
   "source": [
    "### Building the Preprocessing Pipeline for Handling Outliers & Missing Values"
   ]
  },
  {
   "cell_type": "code",
   "execution_count": 19,
   "id": "ff37a5bf",
   "metadata": {},
   "outputs": [],
   "source": [
    "outliers_features = ['ApplicantIncome', 'CoapplicantIncome']\n",
    "\n",
    "mean_features = ['LoanAmount']\n",
    "\n",
    "mode_features = ['Gender', 'Married', 'Dependents', 'Self_Employed', 'Loan_Amount_Term', 'Credit_History']"
   ]
  },
  {
   "cell_type": "markdown",
   "id": "2f2ee4b1",
   "metadata": {},
   "source": [
    "### Creating a Custom Transformer to handle Outliers"
   ]
  },
  {
   "cell_type": "code",
   "execution_count": 20,
   "id": "9bcfe787",
   "metadata": {},
   "outputs": [],
   "source": [
    "# My custom Transformer to handle the Outliers\n",
    "\n",
    "from sklearn.base import TransformerMixin\n",
    "import pandas as pd\n",
    "pd.options.mode.chained_assignment = None  # To ignore the warning for not returning a copied DataFrame\n",
    "\n",
    "class HandleOutliers(TransformerMixin):\n",
    "    \n",
    "    def fit(self, X, y=None):\n",
    "        return self\n",
    "    \n",
    "    def transform(self, X):\n",
    "\n",
    "        from scipy.stats import shapiro\n",
    "\n",
    "        for col in X.columns : # Looping through all columns within the given DataFrame\n",
    "            \n",
    "            # If p-value < 0.05 == Skewed Distribution, else Normal Distribution\n",
    "            \n",
    "            if shapiro(X[col]).pvalue < 0.05 :\n",
    "\n",
    "                # IQR method to handle outliers with Skewed Distribution\n",
    "                q1 = X[col].quantile(0.25)\n",
    "                q3 = X[col].quantile(0.75)\n",
    "\n",
    "                iqr = q3 - q1\n",
    "\n",
    "                lower_boundary = q1 - 1.5 * q1\n",
    "                upper_boundary = q3 + 1.5 * q3\n",
    "\n",
    "                X.loc[X[col] <= lower_boundary, col] = lower_boundary\n",
    "                X.loc[X[col] >= upper_boundary, col] = upper_boundary\n",
    "\n",
    "                \n",
    "            else :\n",
    "\n",
    "                # 3-Sigma method to handle outliers with Normal Distribution\n",
    "                lower_boundary = X[col].mean() - 3 * X[col].std()\n",
    "                upper_boundary = X[col].mean() + 3 * X[col].std()\n",
    "\n",
    "                X.loc[X[col] <= lower_boundary, col] = lower_boundary\n",
    "                X.loc[X[col] >= upper_boundary, col] = upper_boundary\n",
    "                \n",
    "        return X"
   ]
  },
  {
   "cell_type": "code",
   "execution_count": 21,
   "id": "d794ea68",
   "metadata": {},
   "outputs": [],
   "source": [
    "outliers_pipe = Pipeline([\n",
    "    ('Outliers', HandleOutliers())\n",
    "])\n",
    "\n",
    "mean_pipe = Pipeline([\n",
    "    ('Mean_Imputer', SimpleImputer(missing_values=np.nan, strategy='mean'))\n",
    "])\n",
    "\n",
    "mode_pipe = Pipeline([\n",
    "    ('Mode_Imputer', SimpleImputer(missing_values=np.nan, strategy='most_frequent'))\n",
    "])"
   ]
  },
  {
   "cell_type": "code",
   "execution_count": 22,
   "id": "ebae9784",
   "metadata": {},
   "outputs": [],
   "source": [
    "preprocess_pipe = ColumnTransformer([\n",
    "    ('Handle_Outliers', outliers_pipe, outliers_features),\n",
    "    ('Impute_Mean', mean_pipe, mean_features),\n",
    "    ('Impute_Mode', mode_pipe, mode_features)\n",
    "], remainder='passthrough')"
   ]
  },
  {
   "cell_type": "code",
   "execution_count": 23,
   "id": "7537f538",
   "metadata": {},
   "outputs": [],
   "source": [
    "X_train_preprocessed = preprocess_pipe.fit_transform(X_train)"
   ]
  },
  {
   "cell_type": "code",
   "execution_count": 24,
   "id": "a986f798",
   "metadata": {},
   "outputs": [
    {
     "data": {
      "text/plain": [
       "array([[3406.0, 4417.0, 123.0, ..., 1.0, 'Not Graduate', 'Semiurban'],\n",
       "       [1993.0, 1625.0, 113.0, ..., 1.0, 'Not Graduate', 'Semiurban'],\n",
       "       [2917.0, 0.0, 84.0, ..., 1.0, 'Graduate', 'Semiurban'],\n",
       "       ...,\n",
       "       [3237.0, 0.0, 30.0, ..., 1.0, 'Graduate', 'Urban'],\n",
       "       [10047.0, 0.0, 147.16919191919192, ..., 1.0, 'Graduate',\n",
       "        'Semiurban'],\n",
       "       [13650.0, 0.0, 147.16919191919192, ..., 1.0, 'Graduate', 'Urban']],\n",
       "      dtype=object)"
      ]
     },
     "execution_count": 24,
     "metadata": {},
     "output_type": "execute_result"
    }
   ],
   "source": [
    "X_train_preprocessed"
   ]
  },
  {
   "cell_type": "code",
   "execution_count": 25,
   "id": "e20bd410",
   "metadata": {},
   "outputs": [
    {
     "data": {
      "text/plain": [
       "(411, 11)"
      ]
     },
     "execution_count": 25,
     "metadata": {},
     "output_type": "execute_result"
    }
   ],
   "source": [
    "X_train_preprocessed.shape"
   ]
  },
  {
   "cell_type": "code",
   "execution_count": 26,
   "id": "1ca223dc",
   "metadata": {},
   "outputs": [
    {
     "data": {
      "text/plain": [
       "array([3406.0, 4417.0, 123.0, 'Male', 'Yes', 0.0, 'No', 360.0, 1.0,\n",
       "       'Not Graduate', 'Semiurban'], dtype=object)"
      ]
     },
     "execution_count": 26,
     "metadata": {},
     "output_type": "execute_result"
    }
   ],
   "source": [
    "X_train_preprocessed[0]"
   ]
  },
  {
   "cell_type": "code",
   "execution_count": 27,
   "id": "4a4e0737",
   "metadata": {},
   "outputs": [
    {
     "data": {
      "text/html": [
       "<div>\n",
       "<style scoped>\n",
       "    .dataframe tbody tr th:only-of-type {\n",
       "        vertical-align: middle;\n",
       "    }\n",
       "\n",
       "    .dataframe tbody tr th {\n",
       "        vertical-align: top;\n",
       "    }\n",
       "\n",
       "    .dataframe thead th {\n",
       "        text-align: right;\n",
       "    }\n",
       "</style>\n",
       "<table border=\"1\" class=\"dataframe\">\n",
       "  <thead>\n",
       "    <tr style=\"text-align: right;\">\n",
       "      <th></th>\n",
       "      <th>Gender</th>\n",
       "      <th>Married</th>\n",
       "      <th>Dependents</th>\n",
       "      <th>Education</th>\n",
       "      <th>Self_Employed</th>\n",
       "      <th>ApplicantIncome</th>\n",
       "      <th>CoapplicantIncome</th>\n",
       "      <th>LoanAmount</th>\n",
       "      <th>Loan_Amount_Term</th>\n",
       "      <th>Credit_History</th>\n",
       "      <th>Property_Area</th>\n",
       "    </tr>\n",
       "  </thead>\n",
       "  <tbody>\n",
       "    <tr>\n",
       "      <th>244</th>\n",
       "      <td>Male</td>\n",
       "      <td>Yes</td>\n",
       "      <td>0.0</td>\n",
       "      <td>Not Graduate</td>\n",
       "      <td>No</td>\n",
       "      <td>3406</td>\n",
       "      <td>4417.0</td>\n",
       "      <td>123.0</td>\n",
       "      <td>360.0</td>\n",
       "      <td>1.0</td>\n",
       "      <td>Semiurban</td>\n",
       "    </tr>\n",
       "    <tr>\n",
       "      <th>393</th>\n",
       "      <td>Male</td>\n",
       "      <td>Yes</td>\n",
       "      <td>2.0</td>\n",
       "      <td>Not Graduate</td>\n",
       "      <td>No</td>\n",
       "      <td>1993</td>\n",
       "      <td>1625.0</td>\n",
       "      <td>113.0</td>\n",
       "      <td>180.0</td>\n",
       "      <td>1.0</td>\n",
       "      <td>Semiurban</td>\n",
       "    </tr>\n",
       "    <tr>\n",
       "      <th>310</th>\n",
       "      <td>Female</td>\n",
       "      <td>No</td>\n",
       "      <td>0.0</td>\n",
       "      <td>Graduate</td>\n",
       "      <td>No</td>\n",
       "      <td>2917</td>\n",
       "      <td>0.0</td>\n",
       "      <td>84.0</td>\n",
       "      <td>360.0</td>\n",
       "      <td>1.0</td>\n",
       "      <td>Semiurban</td>\n",
       "    </tr>\n",
       "    <tr>\n",
       "      <th>408</th>\n",
       "      <td>Male</td>\n",
       "      <td>Yes</td>\n",
       "      <td>1.0</td>\n",
       "      <td>Graduate</td>\n",
       "      <td>No</td>\n",
       "      <td>8300</td>\n",
       "      <td>0.0</td>\n",
       "      <td>152.0</td>\n",
       "      <td>300.0</td>\n",
       "      <td>0.0</td>\n",
       "      <td>Semiurban</td>\n",
       "    </tr>\n",
       "    <tr>\n",
       "      <th>572</th>\n",
       "      <td>Male</td>\n",
       "      <td>Yes</td>\n",
       "      <td>2.0</td>\n",
       "      <td>Graduate</td>\n",
       "      <td>No</td>\n",
       "      <td>16666</td>\n",
       "      <td>0.0</td>\n",
       "      <td>275.0</td>\n",
       "      <td>360.0</td>\n",
       "      <td>1.0</td>\n",
       "      <td>Urban</td>\n",
       "    </tr>\n",
       "  </tbody>\n",
       "</table>\n",
       "</div>"
      ],
      "text/plain": [
       "     Gender Married  Dependents     Education Self_Employed  ApplicantIncome  \\\n",
       "244    Male     Yes         0.0  Not Graduate            No             3406   \n",
       "393    Male     Yes         2.0  Not Graduate            No             1993   \n",
       "310  Female      No         0.0      Graduate            No             2917   \n",
       "408    Male     Yes         1.0      Graduate            No             8300   \n",
       "572    Male     Yes         2.0      Graduate            No            16666   \n",
       "\n",
       "     CoapplicantIncome  LoanAmount  Loan_Amount_Term  Credit_History  \\\n",
       "244             4417.0       123.0             360.0             1.0   \n",
       "393             1625.0       113.0             180.0             1.0   \n",
       "310                0.0        84.0             360.0             1.0   \n",
       "408                0.0       152.0             300.0             0.0   \n",
       "572                0.0       275.0             360.0             1.0   \n",
       "\n",
       "    Property_Area  \n",
       "244     Semiurban  \n",
       "393     Semiurban  \n",
       "310     Semiurban  \n",
       "408     Semiurban  \n",
       "572         Urban  "
      ]
     },
     "execution_count": 27,
     "metadata": {},
     "output_type": "execute_result"
    }
   ],
   "source": [
    "X_train.head()"
   ]
  },
  {
   "cell_type": "code",
   "execution_count": 28,
   "id": "d7f6f005",
   "metadata": {},
   "outputs": [
    {
     "data": {
      "text/plain": [
       "(411, 11)"
      ]
     },
     "execution_count": 28,
     "metadata": {},
     "output_type": "execute_result"
    }
   ],
   "source": [
    "X_train.shape"
   ]
  },
  {
   "cell_type": "code",
   "execution_count": 29,
   "id": "b7c46dfc",
   "metadata": {},
   "outputs": [],
   "source": [
    "cols = outliers_features+mean_features+mode_features+['Education', 'Property_Area']"
   ]
  },
  {
   "cell_type": "code",
   "execution_count": 30,
   "id": "43a16264",
   "metadata": {},
   "outputs": [
    {
     "data": {
      "text/plain": [
       "11"
      ]
     },
     "execution_count": 30,
     "metadata": {},
     "output_type": "execute_result"
    }
   ],
   "source": [
    "len(cols)"
   ]
  },
  {
   "cell_type": "code",
   "execution_count": 31,
   "id": "e9073da5",
   "metadata": {},
   "outputs": [],
   "source": [
    "X_train = pd.DataFrame(X_train_preprocessed, columns=cols)"
   ]
  },
  {
   "cell_type": "code",
   "execution_count": 32,
   "id": "25d92083",
   "metadata": {},
   "outputs": [
    {
     "data": {
      "text/html": [
       "<div>\n",
       "<style scoped>\n",
       "    .dataframe tbody tr th:only-of-type {\n",
       "        vertical-align: middle;\n",
       "    }\n",
       "\n",
       "    .dataframe tbody tr th {\n",
       "        vertical-align: top;\n",
       "    }\n",
       "\n",
       "    .dataframe thead th {\n",
       "        text-align: right;\n",
       "    }\n",
       "</style>\n",
       "<table border=\"1\" class=\"dataframe\">\n",
       "  <thead>\n",
       "    <tr style=\"text-align: right;\">\n",
       "      <th></th>\n",
       "      <th>ApplicantIncome</th>\n",
       "      <th>CoapplicantIncome</th>\n",
       "      <th>LoanAmount</th>\n",
       "      <th>Gender</th>\n",
       "      <th>Married</th>\n",
       "      <th>Dependents</th>\n",
       "      <th>Self_Employed</th>\n",
       "      <th>Loan_Amount_Term</th>\n",
       "      <th>Credit_History</th>\n",
       "      <th>Education</th>\n",
       "      <th>Property_Area</th>\n",
       "    </tr>\n",
       "  </thead>\n",
       "  <tbody>\n",
       "    <tr>\n",
       "      <th>0</th>\n",
       "      <td>3406.0</td>\n",
       "      <td>4417.0</td>\n",
       "      <td>123.0</td>\n",
       "      <td>Male</td>\n",
       "      <td>Yes</td>\n",
       "      <td>0.0</td>\n",
       "      <td>No</td>\n",
       "      <td>360.0</td>\n",
       "      <td>1.0</td>\n",
       "      <td>Not Graduate</td>\n",
       "      <td>Semiurban</td>\n",
       "    </tr>\n",
       "    <tr>\n",
       "      <th>1</th>\n",
       "      <td>1993.0</td>\n",
       "      <td>1625.0</td>\n",
       "      <td>113.0</td>\n",
       "      <td>Male</td>\n",
       "      <td>Yes</td>\n",
       "      <td>2.0</td>\n",
       "      <td>No</td>\n",
       "      <td>180.0</td>\n",
       "      <td>1.0</td>\n",
       "      <td>Not Graduate</td>\n",
       "      <td>Semiurban</td>\n",
       "    </tr>\n",
       "    <tr>\n",
       "      <th>2</th>\n",
       "      <td>2917.0</td>\n",
       "      <td>0.0</td>\n",
       "      <td>84.0</td>\n",
       "      <td>Female</td>\n",
       "      <td>No</td>\n",
       "      <td>0.0</td>\n",
       "      <td>No</td>\n",
       "      <td>360.0</td>\n",
       "      <td>1.0</td>\n",
       "      <td>Graduate</td>\n",
       "      <td>Semiurban</td>\n",
       "    </tr>\n",
       "    <tr>\n",
       "      <th>3</th>\n",
       "      <td>8300.0</td>\n",
       "      <td>0.0</td>\n",
       "      <td>152.0</td>\n",
       "      <td>Male</td>\n",
       "      <td>Yes</td>\n",
       "      <td>1.0</td>\n",
       "      <td>No</td>\n",
       "      <td>300.0</td>\n",
       "      <td>0.0</td>\n",
       "      <td>Graduate</td>\n",
       "      <td>Semiurban</td>\n",
       "    </tr>\n",
       "    <tr>\n",
       "      <th>4</th>\n",
       "      <td>14870.0</td>\n",
       "      <td>0.0</td>\n",
       "      <td>275.0</td>\n",
       "      <td>Male</td>\n",
       "      <td>Yes</td>\n",
       "      <td>2.0</td>\n",
       "      <td>No</td>\n",
       "      <td>360.0</td>\n",
       "      <td>1.0</td>\n",
       "      <td>Graduate</td>\n",
       "      <td>Urban</td>\n",
       "    </tr>\n",
       "  </tbody>\n",
       "</table>\n",
       "</div>"
      ],
      "text/plain": [
       "  ApplicantIncome CoapplicantIncome LoanAmount  Gender Married Dependents  \\\n",
       "0          3406.0            4417.0      123.0    Male     Yes        0.0   \n",
       "1          1993.0            1625.0      113.0    Male     Yes        2.0   \n",
       "2          2917.0               0.0       84.0  Female      No        0.0   \n",
       "3          8300.0               0.0      152.0    Male     Yes        1.0   \n",
       "4         14870.0               0.0      275.0    Male     Yes        2.0   \n",
       "\n",
       "  Self_Employed Loan_Amount_Term Credit_History     Education Property_Area  \n",
       "0            No            360.0            1.0  Not Graduate     Semiurban  \n",
       "1            No            180.0            1.0  Not Graduate     Semiurban  \n",
       "2            No            360.0            1.0      Graduate     Semiurban  \n",
       "3            No            300.0            0.0      Graduate     Semiurban  \n",
       "4            No            360.0            1.0      Graduate         Urban  "
      ]
     },
     "execution_count": 32,
     "metadata": {},
     "output_type": "execute_result"
    }
   ],
   "source": [
    "X_train.head()"
   ]
  },
  {
   "cell_type": "code",
   "execution_count": 33,
   "id": "cbae850a",
   "metadata": {},
   "outputs": [
    {
     "data": {
      "text/plain": [
       "ApplicantIncome      0\n",
       "CoapplicantIncome    0\n",
       "LoanAmount           0\n",
       "Gender               0\n",
       "Married              0\n",
       "Dependents           0\n",
       "Self_Employed        0\n",
       "Loan_Amount_Term     0\n",
       "Credit_History       0\n",
       "Education            0\n",
       "Property_Area        0\n",
       "dtype: int64"
      ]
     },
     "execution_count": 33,
     "metadata": {},
     "output_type": "execute_result"
    }
   ],
   "source": [
    "X_train.isnull().sum()"
   ]
  },
  {
   "cell_type": "code",
   "execution_count": 34,
   "id": "80045a03",
   "metadata": {
    "scrolled": true
   },
   "outputs": [
    {
     "name": "stdout",
     "output_type": "stream",
     "text": [
      "<class 'pandas.core.frame.DataFrame'>\n",
      "RangeIndex: 411 entries, 0 to 410\n",
      "Data columns (total 11 columns):\n",
      " #   Column             Non-Null Count  Dtype \n",
      "---  ------             --------------  ----- \n",
      " 0   ApplicantIncome    411 non-null    object\n",
      " 1   CoapplicantIncome  411 non-null    object\n",
      " 2   LoanAmount         411 non-null    object\n",
      " 3   Gender             411 non-null    object\n",
      " 4   Married            411 non-null    object\n",
      " 5   Dependents         411 non-null    object\n",
      " 6   Self_Employed      411 non-null    object\n",
      " 7   Loan_Amount_Term   411 non-null    object\n",
      " 8   Credit_History     411 non-null    object\n",
      " 9   Education          411 non-null    object\n",
      " 10  Property_Area      411 non-null    object\n",
      "dtypes: object(11)\n",
      "memory usage: 35.4+ KB\n"
     ]
    }
   ],
   "source": [
    "X_train.info()"
   ]
  },
  {
   "cell_type": "code",
   "execution_count": 35,
   "id": "18d2076b",
   "metadata": {},
   "outputs": [],
   "source": [
    "# Converting 'object' to 'float32'\n",
    "to_int = ['ApplicantIncome', 'CoapplicantIncome', 'LoanAmount', 'Dependents', 'Loan_Amount_Term', 'Credit_History']\n",
    "\n",
    "for col in X_train.columns:\n",
    "    if col in to_int:\n",
    "        X_train[col] = X_train[col].astype(np.float32)"
   ]
  },
  {
   "cell_type": "code",
   "execution_count": 36,
   "id": "992c2abf",
   "metadata": {},
   "outputs": [
    {
     "name": "stdout",
     "output_type": "stream",
     "text": [
      "<class 'pandas.core.frame.DataFrame'>\n",
      "RangeIndex: 411 entries, 0 to 410\n",
      "Data columns (total 11 columns):\n",
      " #   Column             Non-Null Count  Dtype  \n",
      "---  ------             --------------  -----  \n",
      " 0   ApplicantIncome    411 non-null    float32\n",
      " 1   CoapplicantIncome  411 non-null    float32\n",
      " 2   LoanAmount         411 non-null    float32\n",
      " 3   Gender             411 non-null    object \n",
      " 4   Married            411 non-null    object \n",
      " 5   Dependents         411 non-null    float32\n",
      " 6   Self_Employed      411 non-null    object \n",
      " 7   Loan_Amount_Term   411 non-null    float32\n",
      " 8   Credit_History     411 non-null    float32\n",
      " 9   Education          411 non-null    object \n",
      " 10  Property_Area      411 non-null    object \n",
      "dtypes: float32(6), object(5)\n",
      "memory usage: 25.8+ KB\n"
     ]
    }
   ],
   "source": [
    "X_train.info()"
   ]
  },
  {
   "cell_type": "markdown",
   "id": "efbba3a4",
   "metadata": {},
   "source": [
    "### One Hot Encoding"
   ]
  },
  {
   "cell_type": "code",
   "execution_count": 37,
   "id": "4f669c70",
   "metadata": {},
   "outputs": [
    {
     "data": {
      "text/plain": [
       "['Gender', 'Married', 'Self_Employed', 'Education', 'Property_Area']"
      ]
     },
     "execution_count": 37,
     "metadata": {},
     "output_type": "execute_result"
    }
   ],
   "source": [
    "# Appending all the features with dtype == 'object' (Categorical Features) in a list\n",
    "cat_features = []\n",
    "\n",
    "for col in X_train.columns :\n",
    "    if X_train[col].dtype == 'object' :\n",
    "        cat_features.append(col)\n",
    "        \n",
    "cat_features"
   ]
  },
  {
   "cell_type": "code",
   "execution_count": 38,
   "id": "f58fb570",
   "metadata": {},
   "outputs": [
    {
     "name": "stdout",
     "output_type": "stream",
     "text": [
      "['Male' 'Female']\n",
      "['Yes' 'No']\n",
      "['No' 'Yes']\n",
      "['Not Graduate' 'Graduate']\n",
      "['Semiurban' 'Urban' 'Rural']\n"
     ]
    }
   ],
   "source": [
    "for col in X_train.columns:\n",
    "    if col in cat_features:\n",
    "        print(X_train[col].unique())"
   ]
  },
  {
   "cell_type": "code",
   "execution_count": 39,
   "id": "59cf179a",
   "metadata": {},
   "outputs": [],
   "source": [
    "dummies_gender = pd.get_dummies(X_train['Gender'], drop_first=True)\n",
    "dummies_married = pd.get_dummies(X_train['Married'], prefix = 'Married', drop_first=True)\n",
    "dummies_self_emp = pd.get_dummies(X_train['Self_Employed'], prefix = 'Self_Employed', drop_first=True)\n",
    "dummies_edu = pd.get_dummies(X_train['Education'], drop_first=True)\n",
    "dummies_prop = pd.get_dummies(X_train['Property_Area'], drop_first=True)"
   ]
  },
  {
   "cell_type": "code",
   "execution_count": 40,
   "id": "fa078205",
   "metadata": {},
   "outputs": [
    {
     "data": {
      "text/html": [
       "<div>\n",
       "<style scoped>\n",
       "    .dataframe tbody tr th:only-of-type {\n",
       "        vertical-align: middle;\n",
       "    }\n",
       "\n",
       "    .dataframe tbody tr th {\n",
       "        vertical-align: top;\n",
       "    }\n",
       "\n",
       "    .dataframe thead th {\n",
       "        text-align: right;\n",
       "    }\n",
       "</style>\n",
       "<table border=\"1\" class=\"dataframe\">\n",
       "  <thead>\n",
       "    <tr style=\"text-align: right;\">\n",
       "      <th></th>\n",
       "      <th>Male</th>\n",
       "      <th>Married_Yes</th>\n",
       "      <th>Self_Employed_Yes</th>\n",
       "      <th>Not Graduate</th>\n",
       "      <th>Semiurban</th>\n",
       "      <th>Urban</th>\n",
       "    </tr>\n",
       "  </thead>\n",
       "  <tbody>\n",
       "    <tr>\n",
       "      <th>0</th>\n",
       "      <td>1</td>\n",
       "      <td>1</td>\n",
       "      <td>0</td>\n",
       "      <td>1</td>\n",
       "      <td>1</td>\n",
       "      <td>0</td>\n",
       "    </tr>\n",
       "    <tr>\n",
       "      <th>1</th>\n",
       "      <td>1</td>\n",
       "      <td>1</td>\n",
       "      <td>0</td>\n",
       "      <td>1</td>\n",
       "      <td>1</td>\n",
       "      <td>0</td>\n",
       "    </tr>\n",
       "    <tr>\n",
       "      <th>2</th>\n",
       "      <td>0</td>\n",
       "      <td>0</td>\n",
       "      <td>0</td>\n",
       "      <td>0</td>\n",
       "      <td>1</td>\n",
       "      <td>0</td>\n",
       "    </tr>\n",
       "    <tr>\n",
       "      <th>3</th>\n",
       "      <td>1</td>\n",
       "      <td>1</td>\n",
       "      <td>0</td>\n",
       "      <td>0</td>\n",
       "      <td>1</td>\n",
       "      <td>0</td>\n",
       "    </tr>\n",
       "    <tr>\n",
       "      <th>4</th>\n",
       "      <td>1</td>\n",
       "      <td>1</td>\n",
       "      <td>0</td>\n",
       "      <td>0</td>\n",
       "      <td>0</td>\n",
       "      <td>1</td>\n",
       "    </tr>\n",
       "  </tbody>\n",
       "</table>\n",
       "</div>"
      ],
      "text/plain": [
       "   Male  Married_Yes  Self_Employed_Yes  Not Graduate  Semiurban  Urban\n",
       "0     1            1                  0             1          1      0\n",
       "1     1            1                  0             1          1      0\n",
       "2     0            0                  0             0          1      0\n",
       "3     1            1                  0             0          1      0\n",
       "4     1            1                  0             0          0      1"
      ]
     },
     "execution_count": 40,
     "metadata": {},
     "output_type": "execute_result"
    }
   ],
   "source": [
    "encode_df = pd.concat([dummies_gender, dummies_married, dummies_self_emp, dummies_edu, dummies_prop], axis=1)\n",
    "encode_df.head()"
   ]
  },
  {
   "cell_type": "code",
   "execution_count": 41,
   "id": "10715e16",
   "metadata": {},
   "outputs": [],
   "source": [
    "X_train.drop(cat_features, axis=1, inplace=True)"
   ]
  },
  {
   "cell_type": "code",
   "execution_count": 42,
   "id": "d8a1b0b7",
   "metadata": {},
   "outputs": [
    {
     "data": {
      "text/html": [
       "<div>\n",
       "<style scoped>\n",
       "    .dataframe tbody tr th:only-of-type {\n",
       "        vertical-align: middle;\n",
       "    }\n",
       "\n",
       "    .dataframe tbody tr th {\n",
       "        vertical-align: top;\n",
       "    }\n",
       "\n",
       "    .dataframe thead th {\n",
       "        text-align: right;\n",
       "    }\n",
       "</style>\n",
       "<table border=\"1\" class=\"dataframe\">\n",
       "  <thead>\n",
       "    <tr style=\"text-align: right;\">\n",
       "      <th></th>\n",
       "      <th>ApplicantIncome</th>\n",
       "      <th>CoapplicantIncome</th>\n",
       "      <th>LoanAmount</th>\n",
       "      <th>Dependents</th>\n",
       "      <th>Loan_Amount_Term</th>\n",
       "      <th>Credit_History</th>\n",
       "      <th>Male</th>\n",
       "      <th>Married_Yes</th>\n",
       "      <th>Self_Employed_Yes</th>\n",
       "      <th>Not Graduate</th>\n",
       "      <th>Semiurban</th>\n",
       "      <th>Urban</th>\n",
       "    </tr>\n",
       "  </thead>\n",
       "  <tbody>\n",
       "    <tr>\n",
       "      <th>0</th>\n",
       "      <td>3406.0</td>\n",
       "      <td>4417.0</td>\n",
       "      <td>123.0</td>\n",
       "      <td>0.0</td>\n",
       "      <td>360.0</td>\n",
       "      <td>1.0</td>\n",
       "      <td>1</td>\n",
       "      <td>1</td>\n",
       "      <td>0</td>\n",
       "      <td>1</td>\n",
       "      <td>1</td>\n",
       "      <td>0</td>\n",
       "    </tr>\n",
       "    <tr>\n",
       "      <th>1</th>\n",
       "      <td>1993.0</td>\n",
       "      <td>1625.0</td>\n",
       "      <td>113.0</td>\n",
       "      <td>2.0</td>\n",
       "      <td>180.0</td>\n",
       "      <td>1.0</td>\n",
       "      <td>1</td>\n",
       "      <td>1</td>\n",
       "      <td>0</td>\n",
       "      <td>1</td>\n",
       "      <td>1</td>\n",
       "      <td>0</td>\n",
       "    </tr>\n",
       "    <tr>\n",
       "      <th>2</th>\n",
       "      <td>2917.0</td>\n",
       "      <td>0.0</td>\n",
       "      <td>84.0</td>\n",
       "      <td>0.0</td>\n",
       "      <td>360.0</td>\n",
       "      <td>1.0</td>\n",
       "      <td>0</td>\n",
       "      <td>0</td>\n",
       "      <td>0</td>\n",
       "      <td>0</td>\n",
       "      <td>1</td>\n",
       "      <td>0</td>\n",
       "    </tr>\n",
       "    <tr>\n",
       "      <th>3</th>\n",
       "      <td>8300.0</td>\n",
       "      <td>0.0</td>\n",
       "      <td>152.0</td>\n",
       "      <td>1.0</td>\n",
       "      <td>300.0</td>\n",
       "      <td>0.0</td>\n",
       "      <td>1</td>\n",
       "      <td>1</td>\n",
       "      <td>0</td>\n",
       "      <td>0</td>\n",
       "      <td>1</td>\n",
       "      <td>0</td>\n",
       "    </tr>\n",
       "    <tr>\n",
       "      <th>4</th>\n",
       "      <td>14870.0</td>\n",
       "      <td>0.0</td>\n",
       "      <td>275.0</td>\n",
       "      <td>2.0</td>\n",
       "      <td>360.0</td>\n",
       "      <td>1.0</td>\n",
       "      <td>1</td>\n",
       "      <td>1</td>\n",
       "      <td>0</td>\n",
       "      <td>0</td>\n",
       "      <td>0</td>\n",
       "      <td>1</td>\n",
       "    </tr>\n",
       "  </tbody>\n",
       "</table>\n",
       "</div>"
      ],
      "text/plain": [
       "   ApplicantIncome  CoapplicantIncome  LoanAmount  Dependents  \\\n",
       "0           3406.0             4417.0       123.0         0.0   \n",
       "1           1993.0             1625.0       113.0         2.0   \n",
       "2           2917.0                0.0        84.0         0.0   \n",
       "3           8300.0                0.0       152.0         1.0   \n",
       "4          14870.0                0.0       275.0         2.0   \n",
       "\n",
       "   Loan_Amount_Term  Credit_History  Male  Married_Yes  Self_Employed_Yes  \\\n",
       "0             360.0             1.0     1            1                  0   \n",
       "1             180.0             1.0     1            1                  0   \n",
       "2             360.0             1.0     0            0                  0   \n",
       "3             300.0             0.0     1            1                  0   \n",
       "4             360.0             1.0     1            1                  0   \n",
       "\n",
       "   Not Graduate  Semiurban  Urban  \n",
       "0             1          1      0  \n",
       "1             1          1      0  \n",
       "2             0          1      0  \n",
       "3             0          1      0  \n",
       "4             0          0      1  "
      ]
     },
     "execution_count": 42,
     "metadata": {},
     "output_type": "execute_result"
    }
   ],
   "source": [
    "X_train = pd.concat([X_train, encode_df], axis=1)\n",
    "X_train.head()"
   ]
  },
  {
   "cell_type": "code",
   "execution_count": 43,
   "id": "6fd12143",
   "metadata": {},
   "outputs": [],
   "source": [
    "# Conventioning for simplicity\n",
    "X_train['Not_Graduate'] = X_train['Not Graduate']\n",
    "X_train.drop(['Not Graduate'], axis=1, inplace=True)"
   ]
  },
  {
   "cell_type": "code",
   "execution_count": 44,
   "id": "9563a9d2",
   "metadata": {},
   "outputs": [
    {
     "data": {
      "text/html": [
       "<div>\n",
       "<style scoped>\n",
       "    .dataframe tbody tr th:only-of-type {\n",
       "        vertical-align: middle;\n",
       "    }\n",
       "\n",
       "    .dataframe tbody tr th {\n",
       "        vertical-align: top;\n",
       "    }\n",
       "\n",
       "    .dataframe thead th {\n",
       "        text-align: right;\n",
       "    }\n",
       "</style>\n",
       "<table border=\"1\" class=\"dataframe\">\n",
       "  <thead>\n",
       "    <tr style=\"text-align: right;\">\n",
       "      <th></th>\n",
       "      <th>ApplicantIncome</th>\n",
       "      <th>CoapplicantIncome</th>\n",
       "      <th>LoanAmount</th>\n",
       "      <th>Dependents</th>\n",
       "      <th>Loan_Amount_Term</th>\n",
       "      <th>Credit_History</th>\n",
       "      <th>Male</th>\n",
       "      <th>Married_Yes</th>\n",
       "      <th>Self_Employed_Yes</th>\n",
       "      <th>Semiurban</th>\n",
       "      <th>Urban</th>\n",
       "      <th>Not_Graduate</th>\n",
       "    </tr>\n",
       "  </thead>\n",
       "  <tbody>\n",
       "    <tr>\n",
       "      <th>0</th>\n",
       "      <td>3406.0</td>\n",
       "      <td>4417.0</td>\n",
       "      <td>123.0</td>\n",
       "      <td>0.0</td>\n",
       "      <td>360.0</td>\n",
       "      <td>1.0</td>\n",
       "      <td>1</td>\n",
       "      <td>1</td>\n",
       "      <td>0</td>\n",
       "      <td>1</td>\n",
       "      <td>0</td>\n",
       "      <td>1</td>\n",
       "    </tr>\n",
       "    <tr>\n",
       "      <th>1</th>\n",
       "      <td>1993.0</td>\n",
       "      <td>1625.0</td>\n",
       "      <td>113.0</td>\n",
       "      <td>2.0</td>\n",
       "      <td>180.0</td>\n",
       "      <td>1.0</td>\n",
       "      <td>1</td>\n",
       "      <td>1</td>\n",
       "      <td>0</td>\n",
       "      <td>1</td>\n",
       "      <td>0</td>\n",
       "      <td>1</td>\n",
       "    </tr>\n",
       "    <tr>\n",
       "      <th>2</th>\n",
       "      <td>2917.0</td>\n",
       "      <td>0.0</td>\n",
       "      <td>84.0</td>\n",
       "      <td>0.0</td>\n",
       "      <td>360.0</td>\n",
       "      <td>1.0</td>\n",
       "      <td>0</td>\n",
       "      <td>0</td>\n",
       "      <td>0</td>\n",
       "      <td>1</td>\n",
       "      <td>0</td>\n",
       "      <td>0</td>\n",
       "    </tr>\n",
       "    <tr>\n",
       "      <th>3</th>\n",
       "      <td>8300.0</td>\n",
       "      <td>0.0</td>\n",
       "      <td>152.0</td>\n",
       "      <td>1.0</td>\n",
       "      <td>300.0</td>\n",
       "      <td>0.0</td>\n",
       "      <td>1</td>\n",
       "      <td>1</td>\n",
       "      <td>0</td>\n",
       "      <td>1</td>\n",
       "      <td>0</td>\n",
       "      <td>0</td>\n",
       "    </tr>\n",
       "    <tr>\n",
       "      <th>4</th>\n",
       "      <td>14870.0</td>\n",
       "      <td>0.0</td>\n",
       "      <td>275.0</td>\n",
       "      <td>2.0</td>\n",
       "      <td>360.0</td>\n",
       "      <td>1.0</td>\n",
       "      <td>1</td>\n",
       "      <td>1</td>\n",
       "      <td>0</td>\n",
       "      <td>0</td>\n",
       "      <td>1</td>\n",
       "      <td>0</td>\n",
       "    </tr>\n",
       "  </tbody>\n",
       "</table>\n",
       "</div>"
      ],
      "text/plain": [
       "   ApplicantIncome  CoapplicantIncome  LoanAmount  Dependents  \\\n",
       "0           3406.0             4417.0       123.0         0.0   \n",
       "1           1993.0             1625.0       113.0         2.0   \n",
       "2           2917.0                0.0        84.0         0.0   \n",
       "3           8300.0                0.0       152.0         1.0   \n",
       "4          14870.0                0.0       275.0         2.0   \n",
       "\n",
       "   Loan_Amount_Term  Credit_History  Male  Married_Yes  Self_Employed_Yes  \\\n",
       "0             360.0             1.0     1            1                  0   \n",
       "1             180.0             1.0     1            1                  0   \n",
       "2             360.0             1.0     0            0                  0   \n",
       "3             300.0             0.0     1            1                  0   \n",
       "4             360.0             1.0     1            1                  0   \n",
       "\n",
       "   Semiurban  Urban  Not_Graduate  \n",
       "0          1      0             1  \n",
       "1          1      0             1  \n",
       "2          1      0             0  \n",
       "3          1      0             0  \n",
       "4          0      1             0  "
      ]
     },
     "execution_count": 44,
     "metadata": {},
     "output_type": "execute_result"
    }
   ],
   "source": [
    "X_train.head()"
   ]
  },
  {
   "cell_type": "markdown",
   "id": "e661b986",
   "metadata": {},
   "source": [
    "## Preprocessing the Test Data separately"
   ]
  },
  {
   "cell_type": "code",
   "execution_count": 45,
   "id": "90879015",
   "metadata": {},
   "outputs": [
    {
     "data": {
      "text/html": [
       "<div>\n",
       "<style scoped>\n",
       "    .dataframe tbody tr th:only-of-type {\n",
       "        vertical-align: middle;\n",
       "    }\n",
       "\n",
       "    .dataframe tbody tr th {\n",
       "        vertical-align: top;\n",
       "    }\n",
       "\n",
       "    .dataframe thead th {\n",
       "        text-align: right;\n",
       "    }\n",
       "</style>\n",
       "<table border=\"1\" class=\"dataframe\">\n",
       "  <thead>\n",
       "    <tr style=\"text-align: right;\">\n",
       "      <th></th>\n",
       "      <th>Gender</th>\n",
       "      <th>Married</th>\n",
       "      <th>Dependents</th>\n",
       "      <th>Education</th>\n",
       "      <th>Self_Employed</th>\n",
       "      <th>ApplicantIncome</th>\n",
       "      <th>CoapplicantIncome</th>\n",
       "      <th>LoanAmount</th>\n",
       "      <th>Loan_Amount_Term</th>\n",
       "      <th>Credit_History</th>\n",
       "      <th>Property_Area</th>\n",
       "    </tr>\n",
       "  </thead>\n",
       "  <tbody>\n",
       "    <tr>\n",
       "      <th>350</th>\n",
       "      <td>Male</td>\n",
       "      <td>Yes</td>\n",
       "      <td>0</td>\n",
       "      <td>Graduate</td>\n",
       "      <td>No</td>\n",
       "      <td>9083</td>\n",
       "      <td>0.0</td>\n",
       "      <td>228.0</td>\n",
       "      <td>360.0</td>\n",
       "      <td>1.0</td>\n",
       "      <td>Semiurban</td>\n",
       "    </tr>\n",
       "    <tr>\n",
       "      <th>377</th>\n",
       "      <td>Male</td>\n",
       "      <td>Yes</td>\n",
       "      <td>0</td>\n",
       "      <td>Graduate</td>\n",
       "      <td>No</td>\n",
       "      <td>4310</td>\n",
       "      <td>0.0</td>\n",
       "      <td>130.0</td>\n",
       "      <td>360.0</td>\n",
       "      <td>NaN</td>\n",
       "      <td>Semiurban</td>\n",
       "    </tr>\n",
       "    <tr>\n",
       "      <th>163</th>\n",
       "      <td>Male</td>\n",
       "      <td>Yes</td>\n",
       "      <td>2</td>\n",
       "      <td>Graduate</td>\n",
       "      <td>No</td>\n",
       "      <td>4167</td>\n",
       "      <td>1447.0</td>\n",
       "      <td>158.0</td>\n",
       "      <td>360.0</td>\n",
       "      <td>1.0</td>\n",
       "      <td>Rural</td>\n",
       "    </tr>\n",
       "    <tr>\n",
       "      <th>609</th>\n",
       "      <td>Female</td>\n",
       "      <td>No</td>\n",
       "      <td>0</td>\n",
       "      <td>Graduate</td>\n",
       "      <td>No</td>\n",
       "      <td>2900</td>\n",
       "      <td>0.0</td>\n",
       "      <td>71.0</td>\n",
       "      <td>360.0</td>\n",
       "      <td>1.0</td>\n",
       "      <td>Rural</td>\n",
       "    </tr>\n",
       "    <tr>\n",
       "      <th>132</th>\n",
       "      <td>Male</td>\n",
       "      <td>No</td>\n",
       "      <td>0</td>\n",
       "      <td>Graduate</td>\n",
       "      <td>No</td>\n",
       "      <td>2718</td>\n",
       "      <td>0.0</td>\n",
       "      <td>70.0</td>\n",
       "      <td>360.0</td>\n",
       "      <td>1.0</td>\n",
       "      <td>Semiurban</td>\n",
       "    </tr>\n",
       "  </tbody>\n",
       "</table>\n",
       "</div>"
      ],
      "text/plain": [
       "     Gender Married Dependents Education Self_Employed  ApplicantIncome  \\\n",
       "350    Male     Yes          0  Graduate            No             9083   \n",
       "377    Male     Yes          0  Graduate            No             4310   \n",
       "163    Male     Yes          2  Graduate            No             4167   \n",
       "609  Female      No          0  Graduate            No             2900   \n",
       "132    Male      No          0  Graduate            No             2718   \n",
       "\n",
       "     CoapplicantIncome  LoanAmount  Loan_Amount_Term  Credit_History  \\\n",
       "350                0.0       228.0             360.0             1.0   \n",
       "377                0.0       130.0             360.0             NaN   \n",
       "163             1447.0       158.0             360.0             1.0   \n",
       "609                0.0        71.0             360.0             1.0   \n",
       "132                0.0        70.0             360.0             1.0   \n",
       "\n",
       "    Property_Area  \n",
       "350     Semiurban  \n",
       "377     Semiurban  \n",
       "163         Rural  \n",
       "609         Rural  \n",
       "132     Semiurban  "
      ]
     },
     "execution_count": 45,
     "metadata": {},
     "output_type": "execute_result"
    }
   ],
   "source": [
    "X_test.head()"
   ]
  },
  {
   "cell_type": "code",
   "execution_count": 46,
   "id": "c5e96999",
   "metadata": {},
   "outputs": [
    {
     "data": {
      "text/plain": [
       "(203, 11)"
      ]
     },
     "execution_count": 46,
     "metadata": {},
     "output_type": "execute_result"
    }
   ],
   "source": [
    "X_test.shape"
   ]
  },
  {
   "cell_type": "code",
   "execution_count": 47,
   "id": "b8861ad4",
   "metadata": {},
   "outputs": [],
   "source": [
    "X_test['Dependents'] = X_test['Dependents'].map(dep_map)\n",
    "\n",
    "# Using transform method for Test Data\n",
    "X_test_preprocessed = preprocess_pipe.transform(X_test)\n",
    "\n",
    "X_test = pd.DataFrame(X_test_preprocessed, columns=cols)\n",
    "\n",
    "dummies_gender = pd.get_dummies(X_test['Gender'], drop_first=True)\n",
    "dummies_married = pd.get_dummies(X_test['Married'], prefix = 'Married', drop_first=True)\n",
    "dummies_self_emp = pd.get_dummies(X_test['Self_Employed'], prefix = 'Self_Employed', drop_first=True)\n",
    "dummies_edu = pd.get_dummies(X_test['Education'], drop_first=True)\n",
    "dummies_prop = pd.get_dummies(X_test['Property_Area'], drop_first=True)\n",
    "\n",
    "encode_df = pd.concat([dummies_gender, dummies_married, dummies_self_emp, dummies_edu, dummies_prop], axis=1)\n",
    "\n",
    "X_test.drop(cat_features, axis=1, inplace=True)\n",
    "\n",
    "X_test = pd.concat([X_test, encode_df], axis=1)\n",
    "\n",
    "X_test['Not_Graduate'] = X_test['Not Graduate']\n",
    "\n",
    "X_test.drop(['Not Graduate'], axis=1, inplace=True)"
   ]
  },
  {
   "cell_type": "code",
   "execution_count": 48,
   "id": "a6cc73b5",
   "metadata": {},
   "outputs": [
    {
     "data": {
      "text/html": [
       "<div>\n",
       "<style scoped>\n",
       "    .dataframe tbody tr th:only-of-type {\n",
       "        vertical-align: middle;\n",
       "    }\n",
       "\n",
       "    .dataframe tbody tr th {\n",
       "        vertical-align: top;\n",
       "    }\n",
       "\n",
       "    .dataframe thead th {\n",
       "        text-align: right;\n",
       "    }\n",
       "</style>\n",
       "<table border=\"1\" class=\"dataframe\">\n",
       "  <thead>\n",
       "    <tr style=\"text-align: right;\">\n",
       "      <th></th>\n",
       "      <th>ApplicantIncome</th>\n",
       "      <th>CoapplicantIncome</th>\n",
       "      <th>LoanAmount</th>\n",
       "      <th>Dependents</th>\n",
       "      <th>Loan_Amount_Term</th>\n",
       "      <th>Credit_History</th>\n",
       "      <th>Male</th>\n",
       "      <th>Married_Yes</th>\n",
       "      <th>Self_Employed_Yes</th>\n",
       "      <th>Semiurban</th>\n",
       "      <th>Urban</th>\n",
       "      <th>Not_Graduate</th>\n",
       "    </tr>\n",
       "  </thead>\n",
       "  <tbody>\n",
       "    <tr>\n",
       "      <th>0</th>\n",
       "      <td>9083.0</td>\n",
       "      <td>0.0</td>\n",
       "      <td>228.0</td>\n",
       "      <td>0.0</td>\n",
       "      <td>360.0</td>\n",
       "      <td>1.0</td>\n",
       "      <td>1</td>\n",
       "      <td>1</td>\n",
       "      <td>0</td>\n",
       "      <td>1</td>\n",
       "      <td>0</td>\n",
       "      <td>0</td>\n",
       "    </tr>\n",
       "    <tr>\n",
       "      <th>1</th>\n",
       "      <td>4310.0</td>\n",
       "      <td>0.0</td>\n",
       "      <td>130.0</td>\n",
       "      <td>0.0</td>\n",
       "      <td>360.0</td>\n",
       "      <td>1.0</td>\n",
       "      <td>1</td>\n",
       "      <td>1</td>\n",
       "      <td>0</td>\n",
       "      <td>1</td>\n",
       "      <td>0</td>\n",
       "      <td>0</td>\n",
       "    </tr>\n",
       "    <tr>\n",
       "      <th>2</th>\n",
       "      <td>4167.0</td>\n",
       "      <td>1447.0</td>\n",
       "      <td>158.0</td>\n",
       "      <td>2.0</td>\n",
       "      <td>360.0</td>\n",
       "      <td>1.0</td>\n",
       "      <td>1</td>\n",
       "      <td>1</td>\n",
       "      <td>0</td>\n",
       "      <td>0</td>\n",
       "      <td>0</td>\n",
       "      <td>0</td>\n",
       "    </tr>\n",
       "    <tr>\n",
       "      <th>3</th>\n",
       "      <td>2900.0</td>\n",
       "      <td>0.0</td>\n",
       "      <td>71.0</td>\n",
       "      <td>0.0</td>\n",
       "      <td>360.0</td>\n",
       "      <td>1.0</td>\n",
       "      <td>0</td>\n",
       "      <td>0</td>\n",
       "      <td>0</td>\n",
       "      <td>0</td>\n",
       "      <td>0</td>\n",
       "      <td>0</td>\n",
       "    </tr>\n",
       "    <tr>\n",
       "      <th>4</th>\n",
       "      <td>2718.0</td>\n",
       "      <td>0.0</td>\n",
       "      <td>70.0</td>\n",
       "      <td>0.0</td>\n",
       "      <td>360.0</td>\n",
       "      <td>1.0</td>\n",
       "      <td>1</td>\n",
       "      <td>0</td>\n",
       "      <td>0</td>\n",
       "      <td>1</td>\n",
       "      <td>0</td>\n",
       "      <td>0</td>\n",
       "    </tr>\n",
       "  </tbody>\n",
       "</table>\n",
       "</div>"
      ],
      "text/plain": [
       "  ApplicantIncome CoapplicantIncome LoanAmount Dependents Loan_Amount_Term  \\\n",
       "0          9083.0               0.0      228.0        0.0            360.0   \n",
       "1          4310.0               0.0      130.0        0.0            360.0   \n",
       "2          4167.0            1447.0      158.0        2.0            360.0   \n",
       "3          2900.0               0.0       71.0        0.0            360.0   \n",
       "4          2718.0               0.0       70.0        0.0            360.0   \n",
       "\n",
       "  Credit_History  Male  Married_Yes  Self_Employed_Yes  Semiurban  Urban  \\\n",
       "0            1.0     1            1                  0          1      0   \n",
       "1            1.0     1            1                  0          1      0   \n",
       "2            1.0     1            1                  0          0      0   \n",
       "3            1.0     0            0                  0          0      0   \n",
       "4            1.0     1            0                  0          1      0   \n",
       "\n",
       "   Not_Graduate  \n",
       "0             0  \n",
       "1             0  \n",
       "2             0  \n",
       "3             0  \n",
       "4             0  "
      ]
     },
     "execution_count": 48,
     "metadata": {},
     "output_type": "execute_result"
    }
   ],
   "source": [
    "X_test.head()"
   ]
  },
  {
   "cell_type": "markdown",
   "id": "e024d947",
   "metadata": {},
   "source": [
    "## Target Mappings"
   ]
  },
  {
   "cell_type": "code",
   "execution_count": 49,
   "id": "ff9599be",
   "metadata": {},
   "outputs": [
    {
     "data": {
      "text/plain": [
       "array(['Y', 'N'], dtype=object)"
      ]
     },
     "execution_count": 49,
     "metadata": {},
     "output_type": "execute_result"
    }
   ],
   "source": [
    "y_train.unique()"
   ]
  },
  {
   "cell_type": "code",
   "execution_count": 50,
   "id": "1945f52a",
   "metadata": {},
   "outputs": [],
   "source": [
    "y_map = {\n",
    "    'N':0,\n",
    "    'Y':1\n",
    "}"
   ]
  },
  {
   "cell_type": "code",
   "execution_count": 51,
   "id": "c5dcacc8",
   "metadata": {},
   "outputs": [],
   "source": [
    "y_train = y_train.map(y_map)"
   ]
  },
  {
   "cell_type": "code",
   "execution_count": 52,
   "id": "d5512c0b",
   "metadata": {},
   "outputs": [],
   "source": [
    "y_test = y_test.map(y_map)"
   ]
  },
  {
   "cell_type": "markdown",
   "id": "967c158c",
   "metadata": {},
   "source": [
    "## Model Bulding"
   ]
  },
  {
   "cell_type": "markdown",
   "id": "163a48ac",
   "metadata": {},
   "source": [
    "### 1. RandomForest Model"
   ]
  },
  {
   "cell_type": "code",
   "execution_count": 53,
   "id": "7503bba8",
   "metadata": {},
   "outputs": [],
   "source": [
    "rf = RandomForestClassifier()"
   ]
  },
  {
   "cell_type": "code",
   "execution_count": 54,
   "id": "7aec96f6",
   "metadata": {},
   "outputs": [
    {
     "data": {
      "text/plain": [
       "RandomForestClassifier()"
      ]
     },
     "execution_count": 54,
     "metadata": {},
     "output_type": "execute_result"
    }
   ],
   "source": [
    "rf.fit(X_train, y_train)"
   ]
  },
  {
   "cell_type": "code",
   "execution_count": 55,
   "id": "cc79b039",
   "metadata": {},
   "outputs": [
    {
     "data": {
      "text/plain": [
       "0.7832512315270936"
      ]
     },
     "execution_count": 55,
     "metadata": {},
     "output_type": "execute_result"
    }
   ],
   "source": [
    "rf.score(X_test, y_test)"
   ]
  },
  {
   "cell_type": "markdown",
   "id": "759c6981",
   "metadata": {},
   "source": [
    "### 2. AdaBoost Model"
   ]
  },
  {
   "cell_type": "code",
   "execution_count": 56,
   "id": "fb49b3d1",
   "metadata": {},
   "outputs": [],
   "source": [
    "ad = AdaBoostClassifier()"
   ]
  },
  {
   "cell_type": "code",
   "execution_count": 57,
   "id": "10f2d3dd",
   "metadata": {},
   "outputs": [
    {
     "data": {
      "text/plain": [
       "AdaBoostClassifier()"
      ]
     },
     "execution_count": 57,
     "metadata": {},
     "output_type": "execute_result"
    }
   ],
   "source": [
    "ad.fit(X_train, y_train)"
   ]
  },
  {
   "cell_type": "code",
   "execution_count": 58,
   "id": "798a1e9d",
   "metadata": {},
   "outputs": [
    {
     "data": {
      "text/plain": [
       "0.7832512315270936"
      ]
     },
     "execution_count": 58,
     "metadata": {},
     "output_type": "execute_result"
    }
   ],
   "source": [
    "ad.score(X_test, y_test)"
   ]
  },
  {
   "cell_type": "markdown",
   "id": "0105fdb0",
   "metadata": {},
   "source": [
    "## Tuning the Hyperparameters of AdaBoost Model"
   ]
  },
  {
   "cell_type": "code",
   "execution_count": 60,
   "id": "0f5537bb",
   "metadata": {},
   "outputs": [],
   "source": [
    "params = {\n",
    "    'learning_rate': [0.001, 0.01, 0.05, 0.1, 0.5, 0.9, 1],\n",
    "    'n_estimators': [10, 25, 30, 50, 70, 100]\n",
    "}"
   ]
  },
  {
   "cell_type": "code",
   "execution_count": 61,
   "id": "927240b2",
   "metadata": {},
   "outputs": [],
   "source": [
    "rs_cv = RandomizedSearchCV(ad, params, cv=5, n_iter=8)"
   ]
  },
  {
   "cell_type": "code",
   "execution_count": 62,
   "id": "a7406beb",
   "metadata": {},
   "outputs": [],
   "source": [
    "best_model = rs_cv.fit(X_train, y_train)"
   ]
  },
  {
   "cell_type": "code",
   "execution_count": 63,
   "id": "71e576c6",
   "metadata": {},
   "outputs": [
    {
     "data": {
      "text/plain": [
       "0.7980295566502463"
      ]
     },
     "execution_count": 63,
     "metadata": {},
     "output_type": "execute_result"
    }
   ],
   "source": [
    "best_model.score(X_test, y_test)"
   ]
  },
  {
   "cell_type": "code",
   "execution_count": 64,
   "id": "60845648",
   "metadata": {},
   "outputs": [
    {
     "data": {
      "text/plain": [
       "AdaBoostClassifier(learning_rate=0.05)"
      ]
     },
     "execution_count": 64,
     "metadata": {},
     "output_type": "execute_result"
    }
   ],
   "source": [
    "best_model.best_estimator_"
   ]
  },
  {
   "cell_type": "markdown",
   "id": "ca88956e",
   "metadata": {},
   "source": [
    "## Model Performance"
   ]
  },
  {
   "cell_type": "code",
   "execution_count": 65,
   "id": "2f42a43e",
   "metadata": {},
   "outputs": [],
   "source": [
    "y_pred = best_model.predict(X_test)"
   ]
  },
  {
   "cell_type": "code",
   "execution_count": 66,
   "id": "962cf031",
   "metadata": {},
   "outputs": [
    {
     "data": {
      "image/png": "[encoded data removed]",
      "text/plain": [
       "<Figure size 432x288 with 2 Axes>"
      ]
     },
     "metadata": {
      "needs_background": "light"
     },
     "output_type": "display_data"
    }
   ],
   "source": [
    "plot_confusion_matrix(best_model, X_test, y_test)\n",
    "plt.title('Confusion Matrix\\n')\n",
    "plt.show()"
   ]
  },
  {
   "cell_type": "code",
   "execution_count": 67,
   "id": "55e92a78",
   "metadata": {},
   "outputs": [
    {
     "name": "stdout",
     "output_type": "stream",
     "text": [
      "Classification Report:\n",
      "\n",
      "               precision    recall  f1-score   support\n",
      "\n",
      "           0       0.94      0.46      0.62        72\n",
      "           1       0.77      0.98      0.86       131\n",
      "\n",
      "    accuracy                           0.80       203\n",
      "   macro avg       0.86      0.72      0.74       203\n",
      "weighted avg       0.83      0.80      0.78       203\n",
      "\n"
     ]
    }
   ],
   "source": [
    "print(\"Classification Report:\\n\\n\", classification_report(y_test, y_pred))"
   ]
  },
  {
   "cell_type": "code",
   "execution_count": 68,
   "id": "aac8d787",
   "metadata": {},
   "outputs": [
    {
     "data": {
      "image/png": "[encoded data removed]",
      "text/plain": [
       "<Figure size 432x288 with 1 Axes>"
      ]
     },
     "metadata": {
      "needs_background": "light"
     },
     "output_type": "display_data"
    }
   ],
   "source": [
    "plot_roc_curve(best_model, X_test, y_test)\n",
    "plt.title('ROC-AUC\\n')\n",
    "plt.show()"
   ]
  },
  {
   "cell_type": "markdown",
   "id": "f9081b3a",
   "metadata": {},
   "source": [
    "## Saving (Dumping) the model"
   ]
  },
  {
   "cell_type": "code",
   "execution_count": 75,
   "id": "52666b30",
   "metadata": {},
   "outputs": [],
   "source": [
    "# open a file, where you want to store the data\n",
    "file = open('loan_eligibility_adaboost.pkl', 'wb')\n",
    "\n",
    "# dump information to that file\n",
    "pickle.dump(best_model, file)"
   ]
  },
  {
   "cell_type": "code",
   "execution_count": 76,
   "id": "8b3202e5",
   "metadata": {},
   "outputs": [],
   "source": [
    "model = open('loan_eligibility_adaboost.pkl', 'rb')"
   ]
  },
  {
   "cell_type": "markdown",
   "id": "107f742a",
   "metadata": {},
   "source": [
    "## Predictions"
   ]
  },
  {
   "cell_type": "code",
   "execution_count": 71,
   "id": "723984b6",
   "metadata": {},
   "outputs": [
    {
     "data": {
      "text/html": [
       "<div>\n",
       "<style scoped>\n",
       "    .dataframe tbody tr th:only-of-type {\n",
       "        vertical-align: middle;\n",
       "    }\n",
       "\n",
       "    .dataframe tbody tr th {\n",
       "        vertical-align: top;\n",
       "    }\n",
       "\n",
       "    .dataframe thead th {\n",
       "        text-align: right;\n",
       "    }\n",
       "</style>\n",
       "<table border=\"1\" class=\"dataframe\">\n",
       "  <thead>\n",
       "    <tr style=\"text-align: right;\">\n",
       "      <th></th>\n",
       "      <th>ApplicantIncome</th>\n",
       "      <th>CoapplicantIncome</th>\n",
       "      <th>LoanAmount</th>\n",
       "      <th>Dependents</th>\n",
       "      <th>Loan_Amount_Term</th>\n",
       "      <th>Credit_History</th>\n",
       "      <th>Male</th>\n",
       "      <th>Married_Yes</th>\n",
       "      <th>Self_Employed_Yes</th>\n",
       "      <th>Semiurban</th>\n",
       "      <th>Urban</th>\n",
       "      <th>Not_Graduate</th>\n",
       "    </tr>\n",
       "  </thead>\n",
       "  <tbody>\n",
       "    <tr>\n",
       "      <th>198</th>\n",
       "      <td>4053.0</td>\n",
       "      <td>2426.0</td>\n",
       "      <td>158.0</td>\n",
       "      <td>1.0</td>\n",
       "      <td>360.0</td>\n",
       "      <td>0.0</td>\n",
       "      <td>1</td>\n",
       "      <td>0</td>\n",
       "      <td>1</td>\n",
       "      <td>0</td>\n",
       "      <td>1</td>\n",
       "      <td>1</td>\n",
       "    </tr>\n",
       "    <tr>\n",
       "      <th>199</th>\n",
       "      <td>3125.0</td>\n",
       "      <td>2583.0</td>\n",
       "      <td>170.0</td>\n",
       "      <td>1.0</td>\n",
       "      <td>360.0</td>\n",
       "      <td>1.0</td>\n",
       "      <td>1</td>\n",
       "      <td>1</td>\n",
       "      <td>0</td>\n",
       "      <td>1</td>\n",
       "      <td>0</td>\n",
       "      <td>0</td>\n",
       "    </tr>\n",
       "    <tr>\n",
       "      <th>200</th>\n",
       "      <td>4583.0</td>\n",
       "      <td>0.0</td>\n",
       "      <td>133.0</td>\n",
       "      <td>0.0</td>\n",
       "      <td>360.0</td>\n",
       "      <td>0.0</td>\n",
       "      <td>0</td>\n",
       "      <td>0</td>\n",
       "      <td>1</td>\n",
       "      <td>1</td>\n",
       "      <td>0</td>\n",
       "      <td>0</td>\n",
       "    </tr>\n",
       "    <tr>\n",
       "      <th>201</th>\n",
       "      <td>3326.0</td>\n",
       "      <td>913.0</td>\n",
       "      <td>105.0</td>\n",
       "      <td>1.0</td>\n",
       "      <td>84.0</td>\n",
       "      <td>1.0</td>\n",
       "      <td>0</td>\n",
       "      <td>1</td>\n",
       "      <td>0</td>\n",
       "      <td>1</td>\n",
       "      <td>0</td>\n",
       "      <td>0</td>\n",
       "    </tr>\n",
       "    <tr>\n",
       "      <th>202</th>\n",
       "      <td>1958.0</td>\n",
       "      <td>1456.0</td>\n",
       "      <td>60.0</td>\n",
       "      <td>2.0</td>\n",
       "      <td>300.0</td>\n",
       "      <td>1.0</td>\n",
       "      <td>1</td>\n",
       "      <td>1</td>\n",
       "      <td>0</td>\n",
       "      <td>0</td>\n",
       "      <td>1</td>\n",
       "      <td>1</td>\n",
       "    </tr>\n",
       "  </tbody>\n",
       "</table>\n",
       "</div>"
      ],
      "text/plain": [
       "    ApplicantIncome CoapplicantIncome LoanAmount Dependents Loan_Amount_Term  \\\n",
       "198          4053.0            2426.0      158.0        1.0            360.0   \n",
       "199          3125.0            2583.0      170.0        1.0            360.0   \n",
       "200          4583.0               0.0      133.0        0.0            360.0   \n",
       "201          3326.0             913.0      105.0        1.0             84.0   \n",
       "202          1958.0            1456.0       60.0        2.0            300.0   \n",
       "\n",
       "    Credit_History  Male  Married_Yes  Self_Employed_Yes  Semiurban  Urban  \\\n",
       "198            0.0     1            0                  1          0      1   \n",
       "199            1.0     1            1                  0          1      0   \n",
       "200            0.0     0            0                  1          1      0   \n",
       "201            1.0     0            1                  0          1      0   \n",
       "202            1.0     1            1                  0          0      1   \n",
       "\n",
       "     Not_Graduate  \n",
       "198             1  \n",
       "199             0  \n",
       "200             0  \n",
       "201             0  \n",
       "202             1  "
      ]
     },
     "execution_count": 71,
     "metadata": {},
     "output_type": "execute_result"
    }
   ],
   "source": [
    "X_test.tail()"
   ]
  },
  {
   "cell_type": "code",
   "execution_count": 72,
   "id": "f960008b",
   "metadata": {},
   "outputs": [
    {
     "data": {
      "text/plain": [
       "280    0\n",
       "195    0\n",
       "613    0\n",
       "495    1\n",
       "451    1\n",
       "Name: Loan_Status, dtype: int64"
      ]
     },
     "execution_count": 72,
     "metadata": {},
     "output_type": "execute_result"
    }
   ],
   "source": [
    "y_test.tail()"
   ]
  },
  {
   "cell_type": "code",
   "execution_count": 73,
   "id": "3b8e80a9",
   "metadata": {},
   "outputs": [
    {
     "data": {
      "text/plain": [
       "array([0], dtype=int64)"
      ]
     },
     "execution_count": 73,
     "metadata": {},
     "output_type": "execute_result"
    }
   ],
   "source": [
    "best_model.predict([[4053.0,2426.0,158,1,360,0,1,0,1,0,1,1]])"
   ]
  },
  {
   "cell_type": "code",
   "execution_count": 74,
   "id": "145cbe1c",
   "metadata": {},
   "outputs": [
    {
     "data": {
      "text/plain": [
       "array([1], dtype=int64)"
      ]
     },
     "execution_count": 74,
     "metadata": {},
     "output_type": "execute_result"
    }
   ],
   "source": [
    "best_model.predict([[1958.0,1456.0,60,2,300,1,1,1,0,0,1,1]])"
   ]
  }
 ],
 "metadata": {
  "kernelspec": {
   "display_name": "mlprojects",
   "language": "python",
   "name": "mlprojects"
  },
  "language_info": {
   "codemirror_mode": {
    "name": "ipython",
    "version": 3
   },
   "file_extension": ".py",
   "mimetype": "text/x-python",
   "name": "python",
   "nbconvert_exporter": "python",
   "pygments_lexer": "ipython3",
   "version": "3.7.10"
  }
 },
 "nbformat": 4,
 "nbformat_minor": 5
}
